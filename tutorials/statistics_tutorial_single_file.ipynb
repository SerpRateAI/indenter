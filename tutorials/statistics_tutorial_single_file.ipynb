{
 "cells": [
  {
   "cell_type": "markdown",
   "id": "e77370b5",
   "metadata": {},
   "source": [
    "# Statistics Tutorial Single File"
   ]
  },
  {
   "cell_type": "markdown",
   "id": "89dfa588",
   "metadata": {},
   "source": [
    "This notebook demonstrates how to load, preprocess, locate, and extract statistics from nanoindentation data using the merrypopins library,\n",
    "for a single data file."
   ]
  },
  {
   "cell_type": "markdown",
   "id": "2b5ae639",
   "metadata": {},
   "source": [
    "### Required Imports "
   ]
  },
  {
   "cell_type": "code",
   "execution_count": null,
   "id": "98465849",
   "metadata": {},
   "outputs": [
    {
     "ename": "ModuleNotFoundError",
     "evalue": "No module named 'merrypopins'",
     "output_type": "error",
     "traceback": [
      "\u001b[31m---------------------------------------------------------------------------\u001b[39m",
      "\u001b[31mModuleNotFoundError\u001b[39m                       Traceback (most recent call last)",
      "\u001b[36mCell\u001b[39m\u001b[36m \u001b[39m\u001b[32mIn[3]\u001b[39m\u001b[32m, line 7\u001b[39m\n\u001b[32m      4\u001b[39m \u001b[38;5;66;03m# Add the parent src/ folder to sys.path\u001b[39;00m\n\u001b[32m      5\u001b[39m sys.path.append(\u001b[38;5;28mstr\u001b[39m(Path.cwd().parent / \u001b[33m\"\u001b[39m\u001b[33msrc\u001b[39m\u001b[33m\"\u001b[39m))\n\u001b[32m----> \u001b[39m\u001b[32m7\u001b[39m \u001b[38;5;28;01mfrom\u001b[39;00m\u001b[38;5;250m \u001b[39m\u001b[34;01mmerrypopins\u001b[39;00m\u001b[34;01m.\u001b[39;00m\u001b[34;01mload_datasets\u001b[39;00m\u001b[38;5;250m \u001b[39m\u001b[38;5;28;01mimport\u001b[39;00m load_txt\n\u001b[32m      8\u001b[39m \u001b[38;5;28;01mfrom\u001b[39;00m\u001b[38;5;250m \u001b[39m\u001b[34;01mmerrypopins\u001b[39;00m\u001b[34;01m.\u001b[39;00m\u001b[34;01mpreprocess\u001b[39;00m\u001b[38;5;250m \u001b[39m\u001b[38;5;28;01mimport\u001b[39;00m default_preprocess\n\u001b[32m      9\u001b[39m \u001b[38;5;28;01mfrom\u001b[39;00m\u001b[38;5;250m \u001b[39m\u001b[34;01mmerrypopins\u001b[39;00m\u001b[34;01m.\u001b[39;00m\u001b[34;01mlocate\u001b[39;00m\u001b[38;5;250m \u001b[39m\u001b[38;5;28;01mimport\u001b[39;00m default_locate\n",
      "\u001b[31mModuleNotFoundError\u001b[39m: No module named 'merrypopins'"
     ]
    }
   ],
   "source": [
    "from merrypopins.load_datasets import load_txt\n",
    "from merrypopins.preprocess import default_preprocess\n",
    "from merrypopins.locate import default_locate\n",
    "from merrypopins.statistics import (\n",
    "    postprocess_popins_local_max,\n",
    "    extract_popin_intervals,\n",
    "    calculate_popin_statistics,\n",
    "    calculate_curve_summary,\n",
    "    calculate_stress_strain,\n",
    "    calculate_stress_strain_statistics,\n",
    "    default_statistics,\n",
    "    default_statistics_stress_strain\n",
    ")\n",
    "\n",
    "import matplotlib.pyplot as plt\n",
    "import pandas as pd\n",
    "from pathlib import Path"
   ]
  },
  {
   "cell_type": "markdown",
   "id": "39d64eab",
   "metadata": {},
   "source": [
    "### Load and preprocess one indentation file"
   ]
  },
  {
   "cell_type": "code",
   "execution_count": null,
   "id": "009c827a",
   "metadata": {},
   "outputs": [],
   "source": [
    "# path to single file\n",
    "file_path = Path(\"datasets/6microntip_slowloading/grain5_6um_indent02_HL_QS_LC.txt\") # select your own file\n",
    "\n",
    "\n",
    "# Load raw data\n",
    "df_raw = load_txt(file_path)\n",
    "df_raw.head()"
   ]
  },
  {
   "cell_type": "code",
   "execution_count": null,
   "id": "b82ef5ee",
   "metadata": {},
   "outputs": [],
   "source": [
    "#preprocess the data\n",
    "df_clean = default_preprocess(df_raw)\n",
    "df_clean.head()"
   ]
  },
  {
   "cell_type": "markdown",
   "id": "8cf3f20f",
   "metadata": {},
   "source": [
    "### Locate pop-ins"
   ]
  },
  {
   "cell_type": "code",
   "execution_count": null,
   "id": "b9c3a630",
   "metadata": {},
   "outputs": [],
   "source": [
    "df_located = default_locate(df_clean, use_cnn=False, use_iforest=False)\n",
    "df_located[df_located[\"popin\"]].loc[\n",
    "    :, [\"Time (s)\", \"Load (µN)\", \"Depth (nm)\", \"popin\"]\n",
    "].head()\n"
   ]
  },
  {
   "cell_type": "markdown",
   "id": "00d872ed",
   "metadata": {},
   "source": [
    "### Postprocess and extract pop-in intervals"
   ]
  },
  {
   "cell_type": "code",
   "execution_count": null,
   "id": "944b3deb",
   "metadata": {},
   "outputs": [],
   "source": [
    "# Select only pop-ins that have a local load maximum before the peak\n",
    "df_post = postprocess_popins_local_max(df_located, popin_flag_column=\"popin\")\n",
    "\n",
    "# Extract intervals (start and end of each pop-in event)\n",
    "df_intervals = extract_popin_intervals(df_post)\n",
    "\n",
    "# View start and end indices\n",
    "df_intervals[df_intervals[\"popin_selected\"]].loc[\n",
    "    :, [\"Time (s)\", \"Load (µN)\", \"Depth (nm)\", \"popin_selected\", \"start_idx\", \"end_idx\"]\n",
    "].head()\n"
   ]
  },
  {
   "cell_type": "markdown",
   "id": "2b842455",
   "metadata": {},
   "source": [
    "### Plot load-depth curves with pop-in intervals"
   ]
  },
  {
   "cell_type": "code",
   "execution_count": null,
   "id": "f30e2410",
   "metadata": {},
   "outputs": [],
   "source": [
    "plt.figure(figsize=(10, 6))\n",
    "plt.plot(df_intervals[\"Depth (nm)\"], df_intervals[\"Load (µN)\"], label=\"Indentation curve\")\n",
    "\n",
    "# Mark pop-in starts\n",
    "start_mask = df_intervals[\"start_idx\"].notna()\n",
    "start_indices = df_intervals.loc[start_mask, \"start_idx\"].astype(int)\n",
    "plt.scatter(\n",
    "    df_intervals.loc[start_indices, \"Depth (nm)\"],\n",
    "    df_intervals.loc[start_indices, \"Load (µN)\"],\n",
    "    color=\"red\", label=\"Pop-in start\", zorder=10\n",
    ")\n",
    "\n",
    "# Mark pop-in ends\n",
    "end_indices = df_intervals.loc[start_mask, \"end_idx\"].astype(int)\n",
    "plt.scatter(\n",
    "    df_intervals.loc[end_indices, \"Depth (nm)\"],\n",
    "    df_intervals.loc[end_indices, \"Load (µN)\"],\n",
    "    color=\"blue\", label=\"Pop-in end\", zorder=10, alpha=0.5\n",
    ")\n",
    "\n",
    "plt.xlabel(\"Depth (nm)\")\n",
    "plt.ylabel(\"Load (µN)\")\n",
    "plt.title(\"Load–Depth Curve with Pop-In Start/End Points\")\n",
    "plt.legend()\n",
    "plt.show()"
   ]
  },
  {
   "cell_type": "markdown",
   "id": "d51c4eb3",
   "metadata": {},
   "source": [
    "### Compute load-depth pop-in statistics"
   ]
  },
  {
   "cell_type": "code",
   "execution_count": null,
   "id": "75fafc4c",
   "metadata": {},
   "outputs": [],
   "source": [
    "# Full pipeline: includes postprocessing, interval extraction, and stats\n",
    "df_stats_ld = default_statistics(df_located)\n",
    "df_stats_ld[df_stats_ld[\"popin_selected\"]].loc[\n",
    "    :, [\n",
    "        \"popin_selected\",\n",
    "        \"dLoad\",\n",
    "        \"popin_length\",\n",
    "        \"time_until_next\",\n",
    "        \"avg_time_during\",\n",
    "        \"avg_dload_before\",\n",
    "        \"slope_before\",\n",
    "        \"depth_jump\",\n",
    "        \"avg_depth_during\",\n",
    "        \"avg_depth_velocity\",\n",
    "        \"avg_curvature_depth\",\n",
    "    ]\n",
    "].head()\n"
   ]
  },
  {
   "cell_type": "markdown",
   "id": "56e3aa55",
   "metadata": {},
   "source": [
    "### Summary statistics of curve"
   ]
  },
  {
   "cell_type": "code",
   "execution_count": null,
   "id": "3404394c",
   "metadata": {},
   "outputs": [],
   "source": [
    "summary = calculate_curve_summary(df_stats_ld)\n",
    "summary.to_frame(\"value\")\n"
   ]
  },
  {
   "cell_type": "markdown",
   "id": "3095a9fe",
   "metadata": {},
   "source": [
    "### Convert to stress-strain"
   ]
  },
  {
   "cell_type": "code",
   "execution_count": null,
   "id": "64a65e11",
   "metadata": {},
   "outputs": [],
   "source": [
    "# Compute stress–strain and associated pop-in stats\n",
    "df_stats_ss = default_statistics_stress_strain(df_located)\n",
    "\n",
    "# Show computed stress–strain values\n",
    "df_stats_ss[df_stats_ss[\"popin_selected\"]].loc[\n",
    "    :, [\"stress\", \"strain\", \"popin_selected\"]\n",
    "].head()\n"
   ]
  },
  {
   "cell_type": "markdown",
   "id": "b751c7c2",
   "metadata": {},
   "source": [
    "### Plot stress-strain curve with pop-ins"
   ]
  },
  {
   "cell_type": "code",
   "execution_count": null,
   "id": "2f12a070",
   "metadata": {},
   "outputs": [],
   "source": [
    "plt.figure(figsize=(10, 6))\n",
    "plt.plot(df_stats_ss[\"strain\"], df_stats_ss[\"stress\"], label=\"Stress–strain\")\n",
    "plt.scatter(\n",
    "    df_stats_ss.loc[df_stats_ss[\"popin_selected\"], \"strain\"],\n",
    "    df_stats_ss.loc[df_stats_ss[\"popin_selected\"], \"stress\"],\n",
    "    color=\"red\", label=\"Pop-in\", zorder=10\n",
    ")\n",
    "plt.xlabel(\"Strain\")\n",
    "plt.ylabel(\"Stress (MPa)\")\n",
    "plt.title(\"Stress–Strain Curve with Pop-Ins\")\n",
    "plt.legend()\n",
    "plt.show()"
   ]
  },
  {
   "cell_type": "markdown",
   "id": "1937733b",
   "metadata": {},
   "source": [
    "### Pop-in stress-strain statistics"
   ]
  },
  {
   "cell_type": "code",
   "execution_count": null,
   "id": "d0ee1903",
   "metadata": {},
   "outputs": [],
   "source": [
    "# Full pipeline: includes postprocessing, interval extraction, and stress-strain stats\n",
    "df_stats_ss[df_stats_ss[\"popin_selected\"]].loc[\n",
    "    :, [\n",
    "        \"popin_selected\",\n",
    "        \"stress_jump\",\n",
    "        \"strain_jump\",\n",
    "        \"avg_stress_during\",\n",
    "        \"avg_strain_during\",\n",
    "        \"stress_slope\",\n",
    "        \"strain_slope\",\n",
    "        \"avg_dstress_before\",\n",
    "        \"avg_dstrain_before\",\n",
    "        \"stress_slope_before\",\n",
    "        \"strain_slope_before\",\n",
    "    ]\n",
    "].head()\n"
   ]
  },
  {
   "cell_type": "markdown",
   "id": "a9f1ab9d",
   "metadata": {},
   "source": [
    "### Optional: export full datasets"
   ]
  },
  {
   "cell_type": "code",
   "execution_count": null,
   "id": "dddd0445",
   "metadata": {},
   "outputs": [],
   "source": [
    "# Set a flag: True to export, False to skip\n",
    "export_csv = False\n",
    "\n",
    "if export_csv:\n",
    "    df_stats_ld.to_csv(\"popin_statistics_load_depth.csv\", index=False)\n",
    "    df_stats_ss.to_csv(\"popin_statistics_stress_strain.csv\", index=False)\n",
    "    print(\"Exported full datasets to CSV.\")\n",
    "else:\n",
    "    print(\"CSV export skipped.\")"
   ]
  },
  {
   "cell_type": "markdown",
   "id": "c6130681",
   "metadata": {},
   "source": [
    "### Optional: export only statistics of the pop-ins"
   ]
  },
  {
   "cell_type": "code",
   "execution_count": null,
   "id": "086be8cd",
   "metadata": {},
   "outputs": [],
   "source": [
    "export_filtered = False  # Set to True to export only selected pop-ins\n",
    "\n",
    "if export_filtered:\n",
    "    df_stats_ld[df_stats_ld[\"popin_selected\"]].to_csv(\n",
    "        \"popin_selected_load_depth.csv\", index=False\n",
    "    )\n",
    "    df_stats_ss[df_stats_ss[\"popin_selected\"]].to_csv(\n",
    "        \"popin_selected_stress_strain.csv\", index=False\n",
    "    )\n",
    "    print(\"Exported filtered pop-in rows to CSV.\")\n",
    "else:\n",
    "    print(\"Filtered CSV export skipped.\")"
   ]
  }
 ],
 "metadata": {
  "kernelspec": {
   "display_name": "indentation",
   "language": "python",
   "name": "python3"
  },
  "language_info": {
   "codemirror_mode": {
    "name": "ipython",
    "version": 3
   },
   "file_extension": ".py",
   "mimetype": "text/x-python",
   "name": "python",
   "nbconvert_exporter": "python",
   "pygments_lexer": "ipython3",
   "version": "3.11.12"
  }
 },
 "nbformat": 4,
 "nbformat_minor": 5
}
