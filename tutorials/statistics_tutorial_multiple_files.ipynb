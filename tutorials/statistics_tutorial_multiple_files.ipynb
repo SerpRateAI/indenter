{
 "cells": [
  {
   "cell_type": "markdown",
   "id": "3d148b18",
   "metadata": {},
   "source": [
    "# Statistics Tutorial Multiple Files"
   ]
  },
  {
   "cell_type": "markdown",
   "id": "cd9fd74b",
   "metadata": {},
   "source": [
    "This notebook demonstrates how to load, preprocess, locate, and extract statistics from nanoindentation data using the merrypopins library.\n",
    "For processing multiple data files."
   ]
  },
  {
   "cell_type": "markdown",
   "id": "c9685111",
   "metadata": {},
   "source": [
    "### Required imports"
   ]
  },
  {
   "cell_type": "code",
   "execution_count": null,
   "id": "6be8c87e",
   "metadata": {},
   "outputs": [],
   "source": [
    "from merrypopins.load_datasets import load_txt\n",
    "from merrypopins.preprocess import default_preprocess\n",
    "from merrypopins.locate import default_locate\n",
    "from merrypopins.statistics import (\n",
    "    default_statistics_stress_strain,\n",
    ")\n",
    "import pandas as pd\n",
    "from pathlib import Path\n",
    "import math\n",
    "import matplotlib.pyplot as plt\n",
    "import seaborn as sns\n",
    "import os\n",
    "\n",
    "# Set folder containing .txt files\n",
    "data_dir = Path(\"datasets/6microntip_slowloading\")  # <-- adjust if needed\n",
    "txt_files = list(data_dir.glob(\"*.txt\"))\n",
    "print(f\"Found {len(txt_files)} .txt files.\")"
   ]
  },
  {
   "cell_type": "markdown",
   "id": "da93e0ac",
   "metadata": {},
   "source": [
    "### Load, preprocess, locate and extract statistics. "
   ]
  },
  {
   "cell_type": "code",
   "execution_count": null,
   "id": "2be8c2f0",
   "metadata": {},
   "outputs": [],
   "source": [
    "# List to store all per-file stress–strain statistics (includes load–depth stats too)\n",
    "all_stats = []\n",
    "\n",
    "for file in txt_files:\n",
    "    print(f\"Processing: {file.name}\")\n",
    "    try:\n",
    "        df_raw = load_txt(file)\n",
    "        df_clean = default_preprocess(df_raw)\n",
    "        df_located = default_locate(df_clean, use_cnn=False, use_iforest=False)\n",
    "        \n",
    "        # Full statistics (includes both stress–strain and load–depth)\n",
    "        df_stats = default_statistics_stress_strain(df_located)\n",
    "        df_stats[\"source_file\"] = file.name\n",
    "        all_stats.append(df_stats)\n",
    "\n",
    "    except Exception as e:\n",
    "        print(f\"Error processing {file.name}: {e}\")\n"
   ]
  },
  {
   "cell_type": "markdown",
   "id": "f50e0e21",
   "metadata": {},
   "source": [
    "### Show preview of all statistics"
   ]
  },
  {
   "cell_type": "code",
   "execution_count": null,
   "id": "9ed4c558",
   "metadata": {},
   "outputs": [],
   "source": [
    "# Combine all processed stress–strain DataFrames (which include load–depth stats)\n",
    "df_all_stats = pd.concat(all_stats, ignore_index=True)\n",
    "\n",
    "# Option 1: Full dataset (includes all rows, selected and non-selected)\n",
    "print(\"Preview of full statistics dataset (stress–strain + load–depth):\")\n",
    "display(df_all_stats.head())\n",
    "\n",
    "# Option 2: Filtered dataset — only rows where a pop-in was selected\n",
    "df_selected = df_all_stats[df_all_stats[\"popin_selected\"] == True].copy()\n",
    "\n",
    "print(\"Preview of selected pop-ins only:\")\n",
    "display(df_selected.head())"
   ]
  },
  {
   "cell_type": "markdown",
   "id": "e50e55cf",
   "metadata": {},
   "source": [
    "### Optional: export to csv"
   ]
  },
  {
   "cell_type": "code",
   "execution_count": null,
   "id": "85df15f4",
   "metadata": {},
   "outputs": [],
   "source": [
    "export_csv = False\n",
    "\n",
    "if export_csv:\n",
    "    # Export full dataset (includes both stress–strain and load–depth stats)\n",
    "    df_all_stats.to_csv(\"full_popin_statistics.csv\", index=False)\n",
    "\n",
    "    # Export filtered dataset (pop-in selected only)\n",
    "    df_selected = df_all_stats[df_all_stats[\"popin_selected\"] == True].copy()\n",
    "    df_selected.to_csv(\"selected_popin_statistics.csv\", index=False)\n",
    "\n",
    "    print(\"Exported full and filtered statistics datasets to CSV.\")\n",
    "else:\n",
    "    print(\"Export skipped.\")\n"
   ]
  },
  {
   "cell_type": "markdown",
   "id": "16c683d1",
   "metadata": {},
   "source": [
    "### Plot load-depth curves with pop-ins (filtered to pop-ins that have a local-max)"
   ]
  },
  {
   "cell_type": "code",
   "execution_count": null,
   "id": "27419919",
   "metadata": {},
   "outputs": [],
   "source": [
    "n_plots = len(all_stats)\n",
    "n_cols = 3\n",
    "n_rows = math.ceil(n_plots / n_cols)\n",
    "\n",
    "fig, axs = plt.subplots(n_rows, n_cols, figsize=(5 * n_cols, 4.5 * n_rows))\n",
    "\n",
    "for ax, df_stats in zip(axs.flatten(), all_stats):\n",
    "    label = df_stats[\"source_file\"].iloc[0]\n",
    "    ax.plot(df_stats[\"Depth (nm)\"], df_stats[\"Load (µN)\"], label=\"Curve\")\n",
    "    ax.scatter(\n",
    "        df_stats.loc[df_stats[\"popin_selected\"], \"Depth (nm)\"],\n",
    "        df_stats.loc[df_stats[\"popin_selected\"], \"Load (µN)\"],\n",
    "        color=\"red\", label=\"Pop-in\", zorder=10\n",
    "    )\n",
    "    ax.set_title(label, fontsize=10)\n",
    "    ax.set_xlabel(\"Depth (nm)\")\n",
    "    ax.set_ylabel(\"Load (µN)\")\n",
    "    ax.legend(fontsize=8)\n",
    "    ax.grid(True)\n",
    "\n",
    "# Turn off any unused subplots\n",
    "for ax in axs.flatten()[n_plots:]:\n",
    "    ax.axis('off')\n",
    "\n",
    "plt.suptitle(\"Load–Depth Curves with Pop-Ins\", fontsize=16)\n",
    "plt.tight_layout(rect=[0, 0, 1, 0.97])\n",
    "plt.show()\n"
   ]
  },
  {
   "cell_type": "markdown",
   "id": "e42b2de0",
   "metadata": {},
   "source": [
    "### Plot stress-strain curves"
   ]
  },
  {
   "cell_type": "code",
   "execution_count": null,
   "id": "ff58a740",
   "metadata": {},
   "outputs": [],
   "source": [
    "n_plots = len(all_stats)\n",
    "n_cols = 3\n",
    "n_rows = math.ceil(n_plots / n_cols)\n",
    "\n",
    "fig, axs = plt.subplots(n_rows, n_cols, figsize=(5 * n_cols, 4.5 * n_rows))\n",
    "\n",
    "for ax, df_ss in zip(axs.flatten(), all_stats):\n",
    "    label = df_ss[\"source_file\"].iloc[0]\n",
    "    ax.plot(df_ss[\"strain\"], df_ss[\"stress\"], label=\"Curve\")\n",
    "    ax.scatter(\n",
    "        df_ss.loc[df_ss[\"popin_selected\"], \"strain\"],\n",
    "        df_ss.loc[df_ss[\"popin_selected\"], \"stress\"],\n",
    "        color=\"red\", label=\"Pop-in\", zorder=10\n",
    "    )\n",
    "    ax.set_title(label, fontsize=10)\n",
    "    ax.set_xlabel(\"Strain\")\n",
    "    ax.set_ylabel(\"Stress (MPa)\")\n",
    "    ax.legend(fontsize=8)\n",
    "    ax.grid(True)\n",
    "\n",
    "# Turn off unused axes\n",
    "for ax in axs.flatten()[n_plots:]:\n",
    "    ax.axis('off')\n",
    "\n",
    "plt.suptitle(\"Stress–Strain Curves with Pop-Ins\", fontsize=16)\n",
    "plt.tight_layout(rect=[0, 0, 1, 0.97])\n",
    "plt.show()"
   ]
  },
  {
   "cell_type": "markdown",
   "id": "283e5278",
   "metadata": {},
   "source": [
    "### Plot examples"
   ]
  },
  {
   "cell_type": "markdown",
   "id": "6f7f4db5",
   "metadata": {},
   "source": [
    "Popin Frequency.\n",
    "\n",
    "Average number of pop-ins per indent, grouped by grain. This normalised metric highlights grain-level differences in pop-in frequency."
   ]
  },
  {
   "cell_type": "code",
   "execution_count": null,
   "id": "eb7471d5",
   "metadata": {},
   "outputs": [],
   "source": [
    "import matplotlib.pyplot as plt\n",
    "\n",
    "# Extract grain from file name\n",
    "df_all_stats[\"grain\"] = df_all_stats[\"source_file\"].str.extract(r\"(grain\\d+)\")\n",
    "\n",
    "# Total pop-ins per grain\n",
    "popin_counts = (\n",
    "    df_all_stats[df_all_stats[\"popin_selected\"]]\n",
    "    .groupby(\"grain\")[\"popin_selected\"]\n",
    "    .count()\n",
    ")\n",
    "\n",
    "# Total indents per grain -> adjust naming to data\n",
    "indent_counts = df_all_stats.groupby(\"grain\")[\"source_file\"].nunique()\n",
    "\n",
    "# Normalised pop-in rate\n",
    "popins_per_indent = (popin_counts / indent_counts).sort_values()\n",
    "\n",
    "# Plot\n",
    "plt.figure(figsize=(8, 5))\n",
    "popins_per_indent.plot(kind=\"bar\", color=\"thistle\", edgecolor=\"black\")\n",
    "plt.ylabel(\"Avg Pop-Ins per Indent\")\n",
    "plt.xlabel(\"Grain\")\n",
    "plt.title(\"Average Pop-In Count per Indent by Grain\")\n",
    "plt.xticks(rotation=45, ha=\"right\")\n",
    "plt.tight_layout()\n",
    "plt.show()\n"
   ]
  },
  {
   "cell_type": "markdown",
   "id": "1139d21b",
   "metadata": {},
   "source": [
    "Timing of fist pop-in. \n",
    "\n",
    "Mean first pop-in time per grain, with standard deviation. "
   ]
  },
  {
   "cell_type": "code",
   "execution_count": null,
   "id": "caf7f1ec",
   "metadata": {},
   "outputs": [],
   "source": [
    "# Extract first pop-in per indent \n",
    "first_popin_per_indent = (\n",
    "    df_all_stats[df_all_stats[\"popin_selected\"]]\n",
    "    .groupby(\"source_file\")[\"Time (s)\"]\n",
    "    .min()\n",
    "    .reset_index()\n",
    ")\n",
    "\n",
    "# Extract grain again -> adjust naming to data\n",
    "first_popin_per_indent[\"grain\"] = first_popin_per_indent[\"source_file\"].str.extract(r\"(grain\\d+)\")\n",
    "\n",
    "# Group by grain\n",
    "grain_stats = first_popin_per_indent.groupby(\"grain\")[\"Time (s)\"].agg([\"mean\", \"std\"]).sort_values(\"mean\")\n",
    "\n",
    "# Plot\n",
    "plt.figure(figsize=(8, 5))\n",
    "plt.bar(grain_stats.index, grain_stats[\"mean\"], yerr=grain_stats[\"std\"], color=\"lavender\", edgecolor=\"black\", capsize=4)\n",
    "plt.axhline(grain_stats[\"mean\"].mean(), color=\"gray\", linestyle=\"--\", label=\"Global Mean\")\n",
    "plt.ylabel(\"First Pop-In Time (s)\")\n",
    "plt.xlabel(\"Grain\")\n",
    "plt.title(\"Mean First Pop-In Time per Grain (with sd)\")\n",
    "plt.legend()\n",
    "plt.xticks(rotation=45)\n",
    "plt.tight_layout()\n",
    "plt.show()"
   ]
  }
 ],
 "metadata": {
  "language_info": {
   "name": "python"
  }
 },
 "nbformat": 4,
 "nbformat_minor": 5
}
