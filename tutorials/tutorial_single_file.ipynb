{
 "cells": [
  {
   "cell_type": "code",
   "execution_count": null,
   "id": "2bc3add0",
   "metadata": {},
   "outputs": [],
   "source": [
    "import indenter as ind"
   ]
  },
  {
   "cell_type": "code",
   "execution_count": null,
   "id": "7aef0297",
   "metadata": {},
   "outputs": [],
   "source": [
    "data = ind.load_txt(\"indenter\\datasets\\6microntip_slowloading\\grain1_6um_indent01_HL_QS_LC.txt\")"
   ]
  },
  {
   "cell_type": "markdown",
   "id": "6b1e9288",
   "metadata": {},
   "source": [
    "Add column with full txt file name\n",
    "\n",
    "grain = location of crystal with certain orientation\n",
    "6um = tip type\n",
    "indent = experiment number\n",
    "HL / LL = high-load / low-load\n",
    "QS = quas-static\n",
    "LC / DC / OL = load-controlled / displacement-controlled/ open loop"
   ]
  },
  {
   "cell_type": "code",
   "execution_count": null,
   "id": "c8dc4b9a",
   "metadata": {},
   "outputs": [],
   "source": [
    "preprocessed_data = ind.preprocess_data(data)\n",
    "\n",
    "# add description of the function"
   ]
  },
  {
   "cell_type": "markdown",
   "id": "5a743c6a",
   "metadata": {},
   "source": [
    "Indentify whether constant force or increasing force is used"
   ]
  },
  {
   "cell_type": "code",
   "execution_count": null,
   "id": "e59824a1",
   "metadata": {},
   "outputs": [],
   "source": [
    "pop_in_locations = ind.locate_pop_ins(preprocessed_data)\n"
   ]
  },
  {
   "cell_type": "markdown",
   "id": "76dfb5fb",
   "metadata": {},
   "source": [
    "What should locate_pop_ins report:\n",
    "- start depth (sd) -> index of sd\n",
    "- finish depth (fd)\n",
    "- start load (sl)\n",
    "- finish load (fl)\n",
    "- label the pop-ins in one experiment (1st, 2nd, etc.)\n",
    "\n",
    "Function that gets the indexes of the pop-ins"
   ]
  },
  {
   "cell_type": "code",
   "execution_count": null,
   "id": "c52b3feb",
   "metadata": {},
   "outputs": [],
   "source": [
    "stat_df = ind.statistics.calculate_statistics(pop_in_locations, type=[\"type of statistics\"])"
   ]
  },
  {
   "cell_type": "markdown",
   "id": "6df0ff9f",
   "metadata": {},
   "source": [
    "Individual statistics\n",
    "- time form start experiment \n",
    "- time until next pop-in\n",
    "- pop-in length = sd - sf\n",
    "- convert depths and loads to strain/stress\n",
    "- average changes \n",
    "\n",
    "Return dataframe"
   ]
  },
  {
   "cell_type": "code",
   "execution_count": null,
   "id": "86bc3ae5",
   "metadata": {},
   "outputs": [],
   "source": [
    "stat_df.describe()"
   ]
  },
  {
   "cell_type": "code",
   "execution_count": null,
   "id": "e918ff41",
   "metadata": {},
   "outputs": [],
   "source": [
    "stress_strain = ind.statistics.calculate_stress_strain(preprocessed_data)"
   ]
  },
  {
   "cell_type": "markdown",
   "id": "8bcf4cd7",
   "metadata": {},
   "source": [
    "Indentify start of plastic segment.\n",
    "Add column with stress and strain to the preprocessed dataframe."
   ]
  },
  {
   "cell_type": "code",
   "execution_count": null,
   "id": "1b06f71f",
   "metadata": {},
   "outputs": [],
   "source": [
    "yield_point = ind.statistics.calculate_yield_point(stress_strain)"
   ]
  },
  {
   "cell_type": "code",
   "execution_count": null,
   "id": "ccd44558",
   "metadata": {},
   "outputs": [],
   "source": [
    "plot_yield_point\n",
    "\n",
    "#plot stress strain curves and load depth in one plot (same time index)"
   ]
  }
 ],
 "metadata": {
  "language_info": {
   "name": "python"
  }
 },
 "nbformat": 4,
 "nbformat_minor": 5
}
